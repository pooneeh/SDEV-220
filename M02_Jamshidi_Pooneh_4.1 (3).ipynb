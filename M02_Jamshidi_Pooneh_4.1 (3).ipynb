{
 "cells": [
  {
   "cell_type": "code",
   "execution_count": 3,
   "id": "cb245e8f",
   "metadata": {},
   "outputs": [
    {
     "name": "stdout",
     "output_type": "stream",
     "text": [
      "too low\n"
     ]
    }
   ],
   "source": [
    "#Pooneh\n",
    "#SDEV 220\n",
    "#uses if statements to check int values\n",
    "\n",
    "#4.1 Choose a numbr between 1 and 10 and assign it to the variable.\n",
    "secret = 7  \n",
    "guess = 3   \n",
    "\n",
    "#write the condition test(if, else, and elif)\n",
    "\n",
    "if guess < secret:\n",
    "    print('too low')\n",
    "elif guess > secret:\n",
    "    print('too high')\n",
    "else:\n",
    "    print('just right')"
   ]
  },
  {
   "cell_type": "code",
   "execution_count": 1,
   "id": "f800231a",
   "metadata": {},
   "outputs": [
    {
     "name": "stdout",
     "output_type": "stream",
     "text": [
      "This fruit is a cherry.\n"
     ]
    }
   ],
   "source": [
    "#4.2 Assign True or False to the variable small and green.\n",
    "\n",
    "\n",
    "small = True\n",
    "green = False\n",
    "\n",
    "# if/else statements to print which fruit matches the variables\n",
    "\n",
    "if small and not green:\n",
    "    print(\"This fruit is a cherry.\")\n",
    "elif not small and green:\n",
    "    print(\"This fruit is a watermelon.\")\n",
    "elif small and green:\n",
    "    print(\"This fruit is a pea.\")\n",
    "else:\n",
    "    print(\"This fruit is a pumpkin.\")"
   ]
  },
  {
   "cell_type": "code",
   "execution_count": null,
   "id": "c4c19f82",
   "metadata": {},
   "outputs": [],
   "source": []
  }
 ],
 "metadata": {
  "kernelspec": {
   "display_name": "Python 3 (ipykernel)",
   "language": "python",
   "name": "python3"
  },
  "language_info": {
   "codemirror_mode": {
    "name": "ipython",
    "version": 3
   },
   "file_extension": ".py",
   "mimetype": "text/x-python",
   "name": "python",
   "nbconvert_exporter": "python",
   "pygments_lexer": "ipython3",
   "version": "3.10.9"
  }
 },
 "nbformat": 4,
 "nbformat_minor": 5
}
